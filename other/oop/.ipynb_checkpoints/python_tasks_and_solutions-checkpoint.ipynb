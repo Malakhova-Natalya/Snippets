{
 "cells": [
  {
   "cell_type": "markdown",
   "id": "0d7858bd",
   "metadata": {
    "toc": true
   },
   "source": [
    "<h1>Содержание<span class=\"tocSkip\"></span></h1>\n",
    "<div class=\"toc\"><ul class=\"toc-item\"><li><span><a href=\"#A-Классная-точка\" data-toc-modified-id=\"A-Классная-точка-1\"><span class=\"toc-item-num\">1&nbsp;&nbsp;</span>A Классная точка</a></span></li><li><span><a href=\"#B-Классная-точка-2.0\" data-toc-modified-id=\"B-Классная-точка-2.0-2\"><span class=\"toc-item-num\">2&nbsp;&nbsp;</span>B Классная точка 2.0</a></span></li></ul></div>"
   ]
  },
  {
   "cell_type": "markdown",
   "id": "f5e71cfa",
   "metadata": {},
   "source": [
    "## A Классная точка"
   ]
  },
  {
   "cell_type": "markdown",
   "id": "5f629edb",
   "metadata": {},
   "source": [
    "Разработайте класс Point, который при инициализации принимает координаты точки на декартовой плоскости и сохраняет их в поля x и y соответственно.\n",
    "\n",
    "Примечание\n",
    "\n",
    "Ваше решение должно содержать только классы и функции.\n",
    "В решении не должно быть вызовов инициализации требуемых классов."
   ]
  },
  {
   "cell_type": "code",
   "execution_count": 1,
   "id": "33107dc7",
   "metadata": {},
   "outputs": [],
   "source": [
    "class Point:\n",
    "\n",
    "    def __init__(self, x, y):\n",
    "        self.x = x\n",
    "        self.y = y\n",
    "\n",
    "    def print(self):\n",
    "        print(x, y)"
   ]
  },
  {
   "cell_type": "code",
   "execution_count": 2,
   "id": "a1095957",
   "metadata": {},
   "outputs": [
    {
     "name": "stdout",
     "output_type": "stream",
     "text": [
      "3 5\n"
     ]
    }
   ],
   "source": [
    "point = Point(3, 5)\n",
    "print(point.x, point.y)"
   ]
  },
  {
   "cell_type": "code",
   "execution_count": 3,
   "id": "dee9d39c",
   "metadata": {},
   "outputs": [
    {
     "name": "stdout",
     "output_type": "stream",
     "text": [
      "2 -7\n"
     ]
    }
   ],
   "source": [
    "point = Point(2, -7)\n",
    "print(point.x, point.y)"
   ]
  },
  {
   "cell_type": "markdown",
   "id": "95b88eb9",
   "metadata": {},
   "source": [
    "## B Классная точка 2.0"
   ]
  },
  {
   "cell_type": "markdown",
   "id": "942bc2f9",
   "metadata": {},
   "source": [
    "Давайте расширим функционал класса, написанного в прошлой задаче.\n",
    "\n",
    "Реализуйте методы:\n",
    "\n",
    "- move, который перемещает точку на заданное расстояние по осям x и y;\n",
    "- length, который определяет до переданной точки расстояние, округлённое до сотых.\n",
    "\n",
    "Примечание\n",
    "\n",
    "Ваше решение должно содержать только классы и функции.\n",
    "В решении не должно быть вызовов инициализации требуемых классов."
   ]
  },
  {
   "cell_type": "code",
   "execution_count": 25,
   "id": "18c94436",
   "metadata": {},
   "outputs": [],
   "source": [
    "class Point:\n",
    "\n",
    "    def __init__(self, x, y):\n",
    "        self.x = x\n",
    "        self.y = y\n",
    "\n",
    "    def print(self):\n",
    "        print(x, y)\n",
    "        \n",
    "    def move(self, a, b):\n",
    "        self.x += a\n",
    "        self.y += b\n",
    "        \n",
    "    def length(self, x2, y2):\n",
    "        sqrt( (x2 - self.x)**2 + (y2 - self.y)**2 )"
   ]
  },
  {
   "cell_type": "code",
   "execution_count": 26,
   "id": "7e4819ed",
   "metadata": {},
   "outputs": [
    {
     "name": "stdout",
     "output_type": "stream",
     "text": [
      "3 5\n",
      "5 2\n"
     ]
    }
   ],
   "source": [
    "point = Point(3, 5)\n",
    "print(point.x, point.y)\n",
    "point.move(2, -3)\n",
    "print(point.x, point.y)"
   ]
  },
  {
   "cell_type": "code",
   "execution_count": 27,
   "id": "9b9241f9",
   "metadata": {},
   "outputs": [
    {
     "ename": "TypeError",
     "evalue": "length() missing 1 required positional argument: 'y2'",
     "output_type": "error",
     "traceback": [
      "\u001b[1;31m---------------------------------------------------------------------------\u001b[0m",
      "\u001b[1;31mTypeError\u001b[0m                                 Traceback (most recent call last)",
      "\u001b[1;32mC:\\Users\\NATALY~1\\AppData\\Local\\Temp/ipykernel_152364/1861921945.py\u001b[0m in \u001b[0;36m<module>\u001b[1;34m\u001b[0m\n\u001b[0;32m      1\u001b[0m \u001b[0mfirst_point\u001b[0m \u001b[1;33m=\u001b[0m \u001b[0mPoint\u001b[0m\u001b[1;33m(\u001b[0m\u001b[1;36m2\u001b[0m\u001b[1;33m,\u001b[0m \u001b[1;33m-\u001b[0m\u001b[1;36m7\u001b[0m\u001b[1;33m)\u001b[0m\u001b[1;33m\u001b[0m\u001b[1;33m\u001b[0m\u001b[0m\n\u001b[0;32m      2\u001b[0m \u001b[0msecond_point\u001b[0m \u001b[1;33m=\u001b[0m \u001b[0mPoint\u001b[0m\u001b[1;33m(\u001b[0m\u001b[1;36m7\u001b[0m\u001b[1;33m,\u001b[0m \u001b[1;36m9\u001b[0m\u001b[1;33m)\u001b[0m\u001b[1;33m\u001b[0m\u001b[1;33m\u001b[0m\u001b[0m\n\u001b[1;32m----> 3\u001b[1;33m \u001b[0mprint\u001b[0m\u001b[1;33m(\u001b[0m\u001b[0mfirst_point\u001b[0m\u001b[1;33m.\u001b[0m\u001b[0mlength\u001b[0m\u001b[1;33m(\u001b[0m\u001b[0msecond_point\u001b[0m\u001b[1;33m)\u001b[0m\u001b[1;33m)\u001b[0m\u001b[1;33m\u001b[0m\u001b[1;33m\u001b[0m\u001b[0m\n\u001b[0m\u001b[0;32m      4\u001b[0m \u001b[0mprint\u001b[0m\u001b[1;33m(\u001b[0m\u001b[0msecond_point\u001b[0m\u001b[1;33m.\u001b[0m\u001b[0mlength\u001b[0m\u001b[1;33m(\u001b[0m\u001b[0mfirst_point\u001b[0m\u001b[1;33m)\u001b[0m\u001b[1;33m)\u001b[0m\u001b[1;33m\u001b[0m\u001b[1;33m\u001b[0m\u001b[0m\n",
      "\u001b[1;31mTypeError\u001b[0m: length() missing 1 required positional argument: 'y2'"
     ]
    }
   ],
   "source": [
    "first_point = Point(2, -7)\n",
    "second_point = Point(7, 9)\n",
    "print(first_point.length(second_point))\n",
    "print(second_point.length(first_point))"
   ]
  },
  {
   "cell_type": "code",
   "execution_count": null,
   "id": "eabf7bf7",
   "metadata": {},
   "outputs": [],
   "source": [
    "dist = sqrt( (x2 - x1)**2 + (y2 - y1)**2 )"
   ]
  },
  {
   "cell_type": "code",
   "execution_count": null,
   "id": "4897b710",
   "metadata": {},
   "outputs": [],
   "source": []
  },
  {
   "cell_type": "code",
   "execution_count": null,
   "id": "8897e0b8",
   "metadata": {},
   "outputs": [],
   "source": []
  },
  {
   "cell_type": "code",
   "execution_count": null,
   "id": "6a1c248e",
   "metadata": {},
   "outputs": [],
   "source": []
  },
  {
   "cell_type": "code",
   "execution_count": null,
   "id": "36ff68bd",
   "metadata": {},
   "outputs": [],
   "source": []
  },
  {
   "cell_type": "markdown",
   "id": "ac79d1ad",
   "metadata": {},
   "source": [
    "\n",
    "_____________________________________________________________________________________________________________________________\n",
    "Конспект задач и решений: аналитик данных Малахова Наталья\n",
    "\n",
    "Мой телеграм-канал: [Дневник аналитика](https://t.me/diary_musician_analyst \"Дневник аналитика\")\n",
    "\n",
    "GitHub: [GitHub](https://github.com/Malakhova-Natalya \"GitHub\")\n",
    "\n",
    "Habr: [Habr](https://habr.com/ru/users/Malakhova-Natalya/publications/articles/ \"Habr\")\n",
    "\n",
    "Спасибо за внимание!"
   ]
  }
 ],
 "metadata": {
  "kernelspec": {
   "display_name": "Python 3 (ipykernel)",
   "language": "python",
   "name": "python3"
  },
  "language_info": {
   "codemirror_mode": {
    "name": "ipython",
    "version": 3
   },
   "file_extension": ".py",
   "mimetype": "text/x-python",
   "name": "python",
   "nbconvert_exporter": "python",
   "pygments_lexer": "ipython3",
   "version": "3.9.7"
  },
  "toc": {
   "base_numbering": 1,
   "nav_menu": {},
   "number_sections": true,
   "sideBar": true,
   "skip_h1_title": true,
   "title_cell": "Содержание",
   "title_sidebar": "Содержание",
   "toc_cell": true,
   "toc_position": {},
   "toc_section_display": true,
   "toc_window_display": false
  }
 },
 "nbformat": 4,
 "nbformat_minor": 5
}
