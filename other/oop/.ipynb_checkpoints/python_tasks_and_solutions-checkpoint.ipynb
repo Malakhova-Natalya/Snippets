{
 "cells": [
  {
   "cell_type": "markdown",
   "id": "3a24cf1f",
   "metadata": {
    "toc": true
   },
   "source": [
    "<h1>Содержание<span class=\"tocSkip\"></span></h1>\n",
    "<div class=\"toc\"><ul class=\"toc-item\"><li><span><a href=\"#A-Классная-точка\" data-toc-modified-id=\"A-Классная-точка-1\"><span class=\"toc-item-num\">1&nbsp;&nbsp;</span>A Классная точка</a></span></li><li><span><a href=\"#B-Классная-точка-2.0\" data-toc-modified-id=\"B-Классная-точка-2.0-2\"><span class=\"toc-item-num\">2&nbsp;&nbsp;</span>B Классная точка 2.0</a></span></li><li><span><a href=\"#A-Обработка-ошибок\" data-toc-modified-id=\"A-Обработка-ошибок-3\"><span class=\"toc-item-num\">3&nbsp;&nbsp;</span>A Обработка ошибок</a></span></li></ul></div>"
   ]
  },
  {
   "cell_type": "markdown",
   "id": "f49314fe",
   "metadata": {},
   "source": [
    "# 5.1. Объектная модель Python. Классы, поля и методы"
   ]
  },
  {
   "cell_type": "markdown",
   "id": "5f9c92fd",
   "metadata": {},
   "source": [
    "## A Классная точка"
   ]
  },
  {
   "cell_type": "markdown",
   "id": "3f28acc6",
   "metadata": {},
   "source": [
    "Разработайте класс Point, который при инициализации принимает координаты точки на декартовой плоскости и сохраняет их в поля x и y соответственно.\n",
    "\n",
    "Примечание\n",
    "\n",
    "Ваше решение должно содержать только классы и функции.\n",
    "В решении не должно быть вызовов инициализации требуемых классов."
   ]
  },
  {
   "cell_type": "code",
   "execution_count": 1,
   "id": "5e8f7781",
   "metadata": {},
   "outputs": [],
   "source": [
    "class Point:\n",
    "\n",
    "    def __init__(self, x, y):\n",
    "        self.x = x\n",
    "        self.y = y\n",
    "\n",
    "    def print(self):\n",
    "        print(x, y)"
   ]
  },
  {
   "cell_type": "code",
   "execution_count": 2,
   "id": "76ddf5d3",
   "metadata": {},
   "outputs": [
    {
     "name": "stdout",
     "output_type": "stream",
     "text": [
      "3 5\n"
     ]
    }
   ],
   "source": [
    "point = Point(3, 5)\n",
    "print(point.x, point.y)"
   ]
  },
  {
   "cell_type": "code",
   "execution_count": 3,
   "id": "a5fc9fed",
   "metadata": {},
   "outputs": [
    {
     "name": "stdout",
     "output_type": "stream",
     "text": [
      "2 -7\n"
     ]
    }
   ],
   "source": [
    "point = Point(2, -7)\n",
    "print(point.x, point.y)"
   ]
  },
  {
   "cell_type": "markdown",
   "id": "babfc936",
   "metadata": {},
   "source": [
    "## B Классная точка 2.0"
   ]
  },
  {
   "cell_type": "markdown",
   "id": "74b70100",
   "metadata": {},
   "source": [
    "Давайте расширим функционал класса, написанного в прошлой задаче.\n",
    "\n",
    "Реализуйте методы:\n",
    "\n",
    "- move, который перемещает точку на заданное расстояние по осям x и y;\n",
    "- length, который определяет до переданной точки расстояние, округлённое до сотых.\n",
    "\n",
    "Примечание\n",
    "\n",
    "Ваше решение должно содержать только классы и функции.\n",
    "В решении не должно быть вызовов инициализации требуемых классов."
   ]
  },
  {
   "cell_type": "code",
   "execution_count": 4,
   "id": "26131682",
   "metadata": {},
   "outputs": [],
   "source": [
    "class Point:\n",
    "\n",
    "    def __init__(self, x, y):\n",
    "        self.x = x\n",
    "        self.y = y\n",
    "\n",
    "    def print(self):\n",
    "        print(x, y)\n",
    "        \n",
    "    def move(self, a, b):\n",
    "        self.x += a\n",
    "        self.y += b\n",
    "        \n",
    "    def length(self, self2):\n",
    "        from math import sqrt\n",
    "        result = sqrt((self2.x - self.x)**2 + (self2.y - self.y)**2)\n",
    "        return round(result, 2)"
   ]
  },
  {
   "cell_type": "code",
   "execution_count": 5,
   "id": "134a5a8f",
   "metadata": {},
   "outputs": [
    {
     "name": "stdout",
     "output_type": "stream",
     "text": [
      "3 5\n",
      "5 2\n"
     ]
    }
   ],
   "source": [
    "point = Point(3, 5)\n",
    "print(point.x, point.y)\n",
    "point.move(2, -3)\n",
    "print(point.x, point.y)"
   ]
  },
  {
   "cell_type": "code",
   "execution_count": 6,
   "id": "18307c33",
   "metadata": {},
   "outputs": [
    {
     "name": "stdout",
     "output_type": "stream",
     "text": [
      "16.76\n",
      "16.76\n"
     ]
    }
   ],
   "source": [
    "first_point = Point(2, -7)\n",
    "second_point = Point(7, 9)\n",
    "print(first_point.length(second_point))\n",
    "print(second_point.length(first_point))"
   ]
  },
  {
   "cell_type": "markdown",
   "id": "41794f54",
   "metadata": {},
   "source": [
    "# 5.3. Модель исключений Python. Try, except, else, finally. Модули"
   ]
  },
  {
   "cell_type": "markdown",
   "id": "d94ae05b",
   "metadata": {},
   "source": [
    "## A Обработка ошибок"
   ]
  },
  {
   "cell_type": "markdown",
   "id": "896af952",
   "metadata": {},
   "source": [
    "Вашему решению будет предоставлена функция func, которая не имеет параметров и результата. Однако во время её исполнения может произойти одна из ошибок: ValueError, TypeError или SystemError.\n",
    "\n",
    "Вызовите её, обработайте ошибку и выведите её название. Если ошибка не произойдёт, выведите сообщение \"No Exceptions\"."
   ]
  },
  {
   "cell_type": "code",
   "execution_count": 57,
   "id": "63c762f5",
   "metadata": {},
   "outputs": [
    {
     "name": "stdout",
     "output_type": "stream",
     "text": [
      "ValueError\n"
     ]
    }
   ],
   "source": [
    "def func():\n",
    "    x = int('Hello, world!')\n",
    "\n",
    "def main():\n",
    "    try:\n",
    "        func()\n",
    "    except ValueError:\n",
    "        print(\"ValueError\")\n",
    "    except TypeError:\n",
    "        print(\"TypeError\")\n",
    "    except SystemError:\n",
    "        print(\"SystemError\")\n",
    "    else:\n",
    "        print(\"No Exceptions\")\n",
    "\n",
    "        \n",
    "if __name__ == \"__main__\":\n",
    "    main()"
   ]
  },
  {
   "cell_type": "code",
   "execution_count": 59,
   "id": "2ef11709",
   "metadata": {},
   "outputs": [
    {
     "name": "stdout",
     "output_type": "stream",
     "text": [
      "TypeError\n"
     ]
    }
   ],
   "source": [
    "def func():\n",
    "    x = '2' + 2\n",
    "\n",
    "def main():\n",
    "    try:\n",
    "        func()\n",
    "    except ValueError:\n",
    "        print(\"ValueError\")\n",
    "    except TypeError:\n",
    "        print(\"TypeError\")\n",
    "    except SystemError:\n",
    "        print(\"SystemError\")\n",
    "    else:\n",
    "        print(\"No Exceptions\")\n",
    "\n",
    "        \n",
    "if __name__ == \"__main__\":\n",
    "    main()"
   ]
  },
  {
   "cell_type": "code",
   "execution_count": 60,
   "id": "68a46708",
   "metadata": {},
   "outputs": [],
   "source": [
    "def func():\n",
    "    x = int('Hello, world!')"
   ]
  },
  {
   "cell_type": "code",
   "execution_count": 61,
   "id": "259a51c6",
   "metadata": {},
   "outputs": [],
   "source": [
    "def func():\n",
    "    x = '2' + 2"
   ]
  },
  {
   "cell_type": "code",
   "execution_count": null,
   "id": "7f553fc0",
   "metadata": {},
   "outputs": [],
   "source": []
  },
  {
   "cell_type": "code",
   "execution_count": null,
   "id": "4b93d03e",
   "metadata": {},
   "outputs": [],
   "source": []
  },
  {
   "cell_type": "code",
   "execution_count": null,
   "id": "54e8c316",
   "metadata": {},
   "outputs": [],
   "source": []
  },
  {
   "cell_type": "markdown",
   "id": "ac79d1ad",
   "metadata": {},
   "source": [
    "\n",
    "_____________________________________________________________________________________________________________________________\n",
    "Конспект задач и решений вела: аналитик данных Малахова Наталья\n",
    "\n",
    "Мой телеграм-канал: [Дневник аналитика](https://t.me/diary_musician_analyst \"Дневник аналитика\")\n",
    "\n",
    "GitHub: [GitHub](https://github.com/Malakhova-Natalya \"GitHub\")\n",
    "\n",
    "Habr: [Habr](https://habr.com/ru/users/Malakhova-Natalya/publications/articles/ \"Habr\")\n",
    "\n",
    "Спасибо за внимание!"
   ]
  }
 ],
 "metadata": {
  "kernelspec": {
   "display_name": "Python 3 (ipykernel)",
   "language": "python",
   "name": "python3"
  },
  "language_info": {
   "codemirror_mode": {
    "name": "ipython",
    "version": 3
   },
   "file_extension": ".py",
   "mimetype": "text/x-python",
   "name": "python",
   "nbconvert_exporter": "python",
   "pygments_lexer": "ipython3",
   "version": "3.9.7"
  },
  "toc": {
   "base_numbering": 1,
   "nav_menu": {},
   "number_sections": true,
   "sideBar": true,
   "skip_h1_title": true,
   "title_cell": "Содержание",
   "title_sidebar": "Содержание",
   "toc_cell": true,
   "toc_position": {},
   "toc_section_display": true,
   "toc_window_display": false
  }
 },
 "nbformat": 4,
 "nbformat_minor": 5
}
