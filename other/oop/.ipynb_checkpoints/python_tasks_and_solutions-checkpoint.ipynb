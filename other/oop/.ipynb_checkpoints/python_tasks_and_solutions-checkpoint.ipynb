{
 "cells": [
  {
   "cell_type": "markdown",
   "id": "f0d3e2df",
   "metadata": {
    "toc": true
   },
   "source": [
    "<h1>Содержание<span class=\"tocSkip\"></span></h1>\n",
    "<div class=\"toc\"><ul class=\"toc-item\"><li><span><a href=\"#A-Классная-точка\" data-toc-modified-id=\"A-Классная-точка-1\"><span class=\"toc-item-num\">1&nbsp;&nbsp;</span>A Классная точка</a></span></li><li><span><a href=\"#B-Классная-точка-2.0\" data-toc-modified-id=\"B-Классная-точка-2.0-2\"><span class=\"toc-item-num\">2&nbsp;&nbsp;</span>B Классная точка 2.0</a></span></li></ul></div>"
   ]
  },
  {
   "cell_type": "markdown",
   "id": "78665557",
   "metadata": {},
   "source": [
    "## A Классная точка"
   ]
  },
  {
   "cell_type": "markdown",
   "id": "3384bbc0",
   "metadata": {},
   "source": [
    "Разработайте класс Point, который при инициализации принимает координаты точки на декартовой плоскости и сохраняет их в поля x и y соответственно.\n",
    "\n",
    "Примечание\n",
    "\n",
    "Ваше решение должно содержать только классы и функции.\n",
    "В решении не должно быть вызовов инициализации требуемых классов."
   ]
  },
  {
   "cell_type": "code",
   "execution_count": 1,
   "id": "aa950d5a",
   "metadata": {},
   "outputs": [],
   "source": [
    "class Point:\n",
    "\n",
    "    def __init__(self, x, y):\n",
    "        self.x = x\n",
    "        self.y = y\n",
    "\n",
    "    def print(self):\n",
    "        print(x, y)"
   ]
  },
  {
   "cell_type": "code",
   "execution_count": 2,
   "id": "6a8dfac6",
   "metadata": {},
   "outputs": [
    {
     "name": "stdout",
     "output_type": "stream",
     "text": [
      "3 5\n"
     ]
    }
   ],
   "source": [
    "point = Point(3, 5)\n",
    "print(point.x, point.y)"
   ]
  },
  {
   "cell_type": "code",
   "execution_count": 3,
   "id": "d0c5a4d3",
   "metadata": {},
   "outputs": [
    {
     "name": "stdout",
     "output_type": "stream",
     "text": [
      "2 -7\n"
     ]
    }
   ],
   "source": [
    "point = Point(2, -7)\n",
    "print(point.x, point.y)"
   ]
  },
  {
   "cell_type": "markdown",
   "id": "f6da4533",
   "metadata": {},
   "source": [
    "## B Классная точка 2.0"
   ]
  },
  {
   "cell_type": "markdown",
   "id": "dca15eb2",
   "metadata": {},
   "source": [
    "Давайте расширим функционал класса, написанного в прошлой задаче.\n",
    "\n",
    "Реализуйте методы:\n",
    "\n",
    "- move, который перемещает точку на заданное расстояние по осям x и y;\n",
    "- length, который определяет до переданной точки расстояние, округлённое до сотых.\n",
    "\n",
    "Примечание\n",
    "\n",
    "Ваше решение должно содержать только классы и функции.\n",
    "В решении не должно быть вызовов инициализации требуемых классов."
   ]
  },
  {
   "cell_type": "code",
   "execution_count": 4,
   "id": "d933718d",
   "metadata": {},
   "outputs": [],
   "source": [
    "class Point:\n",
    "\n",
    "    def __init__(self, x, y):\n",
    "        self.x = x\n",
    "        self.y = y\n",
    "\n",
    "    def print(self):\n",
    "        print(x, y)\n",
    "        \n",
    "    def move(self, a, b):\n",
    "        self.x += a\n",
    "        self.y += b\n",
    "        \n",
    "    def length(self, self2):\n",
    "        from math import sqrt\n",
    "        result = sqrt( (self2.x - self.x)**2 + (self2.y - self.y)**2 )\n",
    "        return round(result,2)"
   ]
  },
  {
   "cell_type": "code",
   "execution_count": 5,
   "id": "ab1df40f",
   "metadata": {},
   "outputs": [
    {
     "name": "stdout",
     "output_type": "stream",
     "text": [
      "3 5\n",
      "5 2\n"
     ]
    }
   ],
   "source": [
    "point = Point(3, 5)\n",
    "print(point.x, point.y)\n",
    "point.move(2, -3)\n",
    "print(point.x, point.y)"
   ]
  },
  {
   "cell_type": "code",
   "execution_count": 6,
   "id": "b7f875c8",
   "metadata": {},
   "outputs": [
    {
     "name": "stdout",
     "output_type": "stream",
     "text": [
      "16.76\n",
      "16.76\n"
     ]
    }
   ],
   "source": [
    "first_point = Point(2, -7)\n",
    "second_point = Point(7, 9)\n",
    "print(first_point.length(second_point))\n",
    "print(second_point.length(first_point))"
   ]
  },
  {
   "cell_type": "code",
   "execution_count": null,
   "id": "6e933d82",
   "metadata": {},
   "outputs": [],
   "source": []
  },
  {
   "cell_type": "code",
   "execution_count": null,
   "id": "d3f75c99",
   "metadata": {},
   "outputs": [],
   "source": []
  },
  {
   "cell_type": "markdown",
   "id": "ac79d1ad",
   "metadata": {},
   "source": [
    "\n",
    "_____________________________________________________________________________________________________________________________\n",
    "Конспект задач и решений: аналитик данных Малахова Наталья\n",
    "\n",
    "Мой телеграм-канал: [Дневник аналитика](https://t.me/diary_musician_analyst \"Дневник аналитика\")\n",
    "\n",
    "GitHub: [GitHub](https://github.com/Malakhova-Natalya \"GitHub\")\n",
    "\n",
    "Habr: [Habr](https://habr.com/ru/users/Malakhova-Natalya/publications/articles/ \"Habr\")\n",
    "\n",
    "Спасибо за внимание!"
   ]
  }
 ],
 "metadata": {
  "kernelspec": {
   "display_name": "Python 3 (ipykernel)",
   "language": "python",
   "name": "python3"
  },
  "language_info": {
   "codemirror_mode": {
    "name": "ipython",
    "version": 3
   },
   "file_extension": ".py",
   "mimetype": "text/x-python",
   "name": "python",
   "nbconvert_exporter": "python",
   "pygments_lexer": "ipython3",
   "version": "3.9.7"
  },
  "toc": {
   "base_numbering": 1,
   "nav_menu": {},
   "number_sections": true,
   "sideBar": true,
   "skip_h1_title": true,
   "title_cell": "Содержание",
   "title_sidebar": "Содержание",
   "toc_cell": true,
   "toc_position": {},
   "toc_section_display": true,
   "toc_window_display": false
  }
 },
 "nbformat": 4,
 "nbformat_minor": 5
}
